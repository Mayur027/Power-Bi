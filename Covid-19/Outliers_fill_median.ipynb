{
 "cells": [
  {
   "cell_type": "code",
   "execution_count": 22,
   "metadata": {},
   "outputs": [],
   "source": [
    "import pandas as pd \n",
    "import seaborn as sns"
   ]
  },
  {
   "cell_type": "code",
   "execution_count": 23,
   "metadata": {},
   "outputs": [
    {
     "data": {
      "text/plain": [
       "(50418, 14)"
      ]
     },
     "execution_count": 23,
     "metadata": {},
     "output_type": "execute_result"
    }
   ],
   "source": [
    "df = pd.read_csv('raw_data.csv')\n",
    "df.shape\n"
   ]
  },
  {
   "cell_type": "code",
   "execution_count": 24,
   "metadata": {},
   "outputs": [],
   "source": [
    "df.replace('#NUM!',pd.NA,inplace=True)"
   ]
  },
  {
   "cell_type": "code",
   "execution_count": 25,
   "metadata": {},
   "outputs": [],
   "source": [
    "col = ['col_1','col_2','col_3','col_4','col_5']"
   ]
  },
  {
   "cell_type": "code",
   "execution_count": 26,
   "metadata": {},
   "outputs": [],
   "source": [
    "df = df.drop(columns=col)"
   ]
  },
  {
   "cell_type": "code",
   "execution_count": 27,
   "metadata": {},
   "outputs": [
    {
     "data": {
      "text/plain": [
       "Index(['total_cases', 'total_deaths', 'stringency_index', 'population',\n",
       "       'gdp_per_capita', 'human_development_index'],\n",
       "      dtype='object')"
      ]
     },
     "execution_count": 27,
     "metadata": {},
     "output_type": "execute_result"
    }
   ],
   "source": [
    "num_col = df.select_dtypes(include=['int64','float64']).columns\n",
    "num_col"
   ]
  },
  {
   "cell_type": "code",
   "execution_count": 28,
   "metadata": {},
   "outputs": [
    {
     "name": "stdout",
     "output_type": "stream",
     "text": [
      "['total_cases', 'total_deaths', 'population', 'gdp_per_capita', 'human_development_index']\n"
     ]
    }
   ],
   "source": [
    "q1 = df[num_col].quantile(0.25)\n",
    "q3 = df[num_col].quantile(0.75)\n",
    "iqr = q3-q1\n",
    "lower_limit = q1 - (1.5*iqr)\n",
    "upper_limit = q3 + (1.5*iqr)\n",
    "\n",
    "\n",
    "outliers_col = [x for x in num_col if ((df[x]<lower_limit[x])|(df[x]>upper_limit[x])).any()]\n",
    "print(outliers_col)"
   ]
  },
  {
   "cell_type": "code",
   "execution_count": 29,
   "metadata": {},
   "outputs": [],
   "source": [
    "for x in outliers_col:\n",
    "   df[x] = df[x].where((df[x] >= lower_limit[x]) & (df[x] <= upper_limit[x]), df[x].median())"
   ]
  },
  {
   "cell_type": "code",
   "execution_count": 30,
   "metadata": {},
   "outputs": [
    {
     "data": {
      "text/plain": [
       "iso_code                      0\n",
       "location                      0\n",
       "date                          0\n",
       "total_cases                   0\n",
       "total_deaths                  0\n",
       "stringency_index           7126\n",
       "population                    0\n",
       "gdp_per_capita                0\n",
       "human_development_index       0\n",
       "dtype: int64"
      ]
     },
     "execution_count": 30,
     "metadata": {},
     "output_type": "execute_result"
    }
   ],
   "source": [
    "df.isnull().sum()"
   ]
  },
  {
   "cell_type": "code",
   "execution_count": 31,
   "metadata": {},
   "outputs": [
    {
     "data": {
      "text/plain": [
       "iso_code                    0.000000\n",
       "location                    0.000000\n",
       "date                        0.000000\n",
       "total_cases                 0.000000\n",
       "total_deaths                0.000000\n",
       "stringency_index           14.133841\n",
       "population                  0.000000\n",
       "gdp_per_capita              0.000000\n",
       "human_development_index     0.000000\n",
       "dtype: float64"
      ]
     },
     "execution_count": 31,
     "metadata": {},
     "output_type": "execute_result"
    }
   ],
   "source": [
    "null_var = df.isnull().sum()/df.shape[0]*100\n",
    "null_var"
   ]
  },
  {
   "cell_type": "code",
   "execution_count": 32,
   "metadata": {},
   "outputs": [
    {
     "data": {
      "text/plain": [
       "Index(['stringency_index'], dtype='object')"
      ]
     },
     "execution_count": 32,
     "metadata": {},
     "output_type": "execute_result"
    }
   ],
   "source": [
    "null_col = null_var[null_var>0].keys()\n",
    "null_col"
   ]
  },
  {
   "cell_type": "code",
   "execution_count": 33,
   "metadata": {},
   "outputs": [
    {
     "data": {
      "text/plain": [
       "stringency_index    61.11\n",
       "dtype: float64"
      ]
     },
     "execution_count": 33,
     "metadata": {},
     "output_type": "execute_result"
    }
   ],
   "source": [
    "df[null_col]=df[null_col].fillna(df[null_col].median())\n",
    "df[null_col].median()"
   ]
  },
  {
   "cell_type": "code",
   "execution_count": 34,
   "metadata": {},
   "outputs": [
    {
     "data": {
      "text/plain": [
       "iso_code                   0\n",
       "location                   0\n",
       "date                       0\n",
       "total_cases                0\n",
       "total_deaths               0\n",
       "stringency_index           0\n",
       "population                 0\n",
       "gdp_per_capita             0\n",
       "human_development_index    0\n",
       "dtype: int64"
      ]
     },
     "execution_count": 34,
     "metadata": {},
     "output_type": "execute_result"
    }
   ],
   "source": [
    "df.isnull().sum()"
   ]
  },
  {
   "cell_type": "code",
   "execution_count": 35,
   "metadata": {},
   "outputs": [
    {
     "data": {
      "text/plain": [
       "<Axes: >"
      ]
     },
     "execution_count": 35,
     "metadata": {},
     "output_type": "execute_result"
    },
    {
     "data": {
      "image/png": "[encoded data removed]",
      "text/plain": [
       "<Figure size 640x480 with 2 Axes>"
      ]
     },
     "metadata": {},
     "output_type": "display_data"
    }
   ],
   "source": [
    "sns.heatmap(df.isnull())"
   ]
  },
  {
   "cell_type": "code",
   "execution_count": 36,
   "metadata": {},
   "outputs": [],
   "source": [
    "df.to_csv('Clean_Data.csv',index=True)"
   ]
  }
 ],
 "metadata": {
  "kernelspec": {
   "display_name": "Python 3",
   "language": "python",
   "name": "python3"
  },
  "language_info": {
   "codemirror_mode": {
    "name": "ipython",
    "version": 3
   },
   "file_extension": ".py",
   "mimetype": "text/x-python",
   "name": "python",
   "nbconvert_exporter": "python",
   "pygments_lexer": "ipython3",
   "version": "3.13.2"
  }
 },
 "nbformat": 4,
 "nbformat_minor": 2
}
